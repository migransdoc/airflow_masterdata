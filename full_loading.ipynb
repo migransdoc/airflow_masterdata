{
 "cells": [
  {
   "cell_type": "code",
   "execution_count": 1,
   "id": "2a340739",
   "metadata": {},
   "outputs": [],
   "source": [
    "import requests\n",
    "import pyodata\n",
    "import petl as etl\n",
    "import psycopg2 as pg"
   ]
  },
  {
   "cell_type": "code",
   "execution_count": 2,
   "id": "feeba664",
   "metadata": {},
   "outputs": [],
   "source": [
    "SERVICE_URL = \"http://services.odata.org/V2/Northwind/Northwind.svc/\"\n",
    "conn = pg.connect(\"host=172.20.0.2 dbname=testcase user=airflow password=airflow\")\n",
    "client = pyodata.Client(SERVICE_URL, requests.Session())"
   ]
  },
  {
   "cell_type": "code",
   "execution_count": 3,
   "id": "3445d2c5",
   "metadata": {},
   "outputs": [
    {
     "data": {
      "text/plain": [
       "9"
      ]
     },
     "execution_count": 3,
     "metadata": {},
     "output_type": "execute_result"
    }
   ],
   "source": [
    "count = client.entity_sets.Employees.get_entities().count().execute()  # Считаем кол-во записей в одата\n",
    "N = 3  # Сколько строк в одной пачке\n",
    "count"
   ]
  },
  {
   "cell_type": "markdown",
   "id": "5ab490b9",
   "metadata": {},
   "source": [
    "Делаем загрузку по n (в данном случае по 3) объектов. Это включает в себя выгрузки из одата n объектов и загрузка в таблицу постгрес также эти n объектов. Затем цикл повторяется"
   ]
  },
  {
   "cell_type": "code",
   "execution_count": 4,
   "id": "d715b5a2",
   "metadata": {},
   "outputs": [],
   "source": [
    "for i in range(0, count, N):\n",
    "    employees = client.entity_sets.Employees.get_entities()\n",
    "    # Мы скипаем i строк от начала, затем берем первые N строк и грузим\n",
    "    employees = employees.skip(i).top(N).filter(\"Region eq 'WA'\")\n",
    "    employees = employees.select('EmployeeID,LastName,Title,TitleOfCourtesy,BirthDate,HireDate,PostalCode,ReportsTo').execute()\n",
    "    \n",
    "    dicts = []\n",
    "    for employee in employees:\n",
    "        dicts.append(employee._cache)\n",
    "        \n",
    "    tab1 = etl.fromdicts(dicts, header=employees[0]._cache.keys())\n",
    "    etl.appenddb(table=tab1,\n",
    "         dbo=conn,\n",
    "         tablename =\"odata_test_employee\",\n",
    "         schema='python',\n",
    "         commit=True)"
   ]
  },
  {
   "cell_type": "code",
   "execution_count": 6,
   "id": "18ddddcb",
   "metadata": {},
   "outputs": [],
   "source": [
    "conn.close()"
   ]
  },
  {
   "cell_type": "code",
   "execution_count": null,
   "id": "efce2a2c",
   "metadata": {},
   "outputs": [],
   "source": []
  }
 ],
 "metadata": {
  "kernelspec": {
   "display_name": "Python 3 (ipykernel)",
   "language": "python",
   "name": "python3"
  },
  "language_info": {
   "codemirror_mode": {
    "name": "ipython",
    "version": 3
   },
   "file_extension": ".py",
   "mimetype": "text/x-python",
   "name": "python",
   "nbconvert_exporter": "python",
   "pygments_lexer": "ipython3",
   "version": "3.9.7"
  }
 },
 "nbformat": 4,
 "nbformat_minor": 5
}
