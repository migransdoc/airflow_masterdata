{
 "cells": [
  {
   "cell_type": "code",
   "execution_count": 1,
   "id": "e64d2b22",
   "metadata": {},
   "outputs": [],
   "source": [
    "import psycopg2 as pg\n",
    "import sqlalchemy\n",
    "import petl as etl\n",
    "from datetime import datetime\n",
    "import pytz\n",
    "from petl import datetimeparser"
   ]
  },
  {
   "cell_type": "code",
   "execution_count": 3,
   "id": "8f25710c",
   "metadata": {},
   "outputs": [],
   "source": [
    "isodatetime = datetimeparser('%Y-%m-%d %H:%M:%S')"
   ]
  },
  {
   "cell_type": "code",
   "execution_count": 4,
   "id": "eaab090b",
   "metadata": {},
   "outputs": [],
   "source": [
    "conn = pg.connect(\"host=172.20.0.2 dbname=testcase user=airflow password=airflow\")"
   ]
  },
  {
   "cell_type": "code",
   "execution_count": 49,
   "id": "1661325f",
   "metadata": {},
   "outputs": [],
   "source": [
    "table1 = etl.fromcsv(source = '/home/jovyan/work/test1.csv',delimiter = ';')"
   ]
  },
  {
   "cell_type": "code",
   "execution_count": 51,
   "id": "f3f29700",
   "metadata": {},
   "outputs": [],
   "source": [
    "table2 = etl.convert(table1,'id',int)"
   ]
  },
  {
   "cell_type": "code",
   "execution_count": 54,
   "id": "6080ca6b",
   "metadata": {},
   "outputs": [
    {
     "data": {
      "text/plain": [
       "+----+-------------+-----------------------+-----------------------+\n",
       "| id | data        | modi_date             | load_date             |\n",
       "+====+=============+=======================+=======================+\n",
       "|  1 | 'sdsdsd'    | '2012-01-07 00:00:00' | '2021-06-08 09:13:13' |\n",
       "+----+-------------+-----------------------+-----------------------+\n",
       "|  2 | 'sdsdjfhsd' | '2012-01-07 00:01:00' | '2021-06-08 09:13:13' |\n",
       "+----+-------------+-----------------------+-----------------------+\n",
       "|  3 | 'x'         | '2012-01-07 00:00:00' | '2021-06-08 09:13:13' |\n",
       "+----+-------------+-----------------------+-----------------------+\n",
       "|  4 | 'd'         | '2012-01-08 00:00:00' | '2021-06-08 09:13:13' |\n",
       "+----+-------------+-----------------------+-----------------------+\n",
       "|  5 | 'sdd'       | '2012-01-07 00:00:00' | '2021-06-08 09:13:13' |\n",
       "+----+-------------+-----------------------+-----------------------+\n",
       "|  6 | 'ssd'       | '2012-01-07 00:00:00' | '2021-06-08 09:13:13' |\n",
       "+----+-------------+-----------------------+-----------------------+\n",
       "|  7 | 's1sd'      | '2012-01-08 00:00:00' | '2021-06-08 09:13:13' |\n",
       "+----+-------------+-----------------------+-----------------------+\n",
       "|  8 | 'zzz'       | '2012-01-07 00:00:00' | '2021-06-08 09:13:13' |\n",
       "+----+-------------+-----------------------+-----------------------+\n",
       "|  9 | 'yyyyYY'    | '2012-01-07 00:00:00' | '2021-06-08 09:13:13' |\n",
       "+----+-------------+-----------------------+-----------------------+"
      ]
     },
     "execution_count": 54,
     "metadata": {},
     "output_type": "execute_result"
    }
   ],
   "source": [
    "table3.lookall()"
   ]
  },
  {
   "cell_type": "code",
   "execution_count": 53,
   "id": "ae141122",
   "metadata": {},
   "outputs": [],
   "source": [
    "now = datetime.now()\n",
    "now_str = now.strftime(\"%Y-%d-%m %H:%M:%S\")\n",
    "now_str\n",
    "table3 = etl.addfield(table2,'load_date',now_str)"
   ]
  },
  {
   "cell_type": "code",
   "execution_count": 55,
   "id": "d841b357",
   "metadata": {},
   "outputs": [
    {
     "data": {
      "text/html": [
       "<table class='petl'>\n",
       "<thead>\n",
       "<tr>\n",
       "<th>id</th>\n",
       "<th>data</th>\n",
       "<th>modi_date</th>\n",
       "<th>load_date</th>\n",
       "</tr>\n",
       "</thead>\n",
       "<tbody>\n",
       "<tr>\n",
       "<td style='text-align: right'>3</td>\n",
       "<td>x</td>\n",
       "<td>2012-01-07 00:00:00</td>\n",
       "<td>2021-06-08 09:13:13</td>\n",
       "</tr>\n",
       "<tr>\n",
       "<td style='text-align: right'>4</td>\n",
       "<td>d</td>\n",
       "<td>2012-01-08 00:00:00</td>\n",
       "<td>2021-06-08 09:13:13</td>\n",
       "</tr>\n",
       "<tr>\n",
       "<td style='text-align: right'>5</td>\n",
       "<td>sdd</td>\n",
       "<td>2012-01-07 00:00:00</td>\n",
       "<td>2021-06-08 09:13:13</td>\n",
       "</tr>\n",
       "<tr>\n",
       "<td style='text-align: right'>6</td>\n",
       "<td>ssd</td>\n",
       "<td>2012-01-07 00:00:00</td>\n",
       "<td>2021-06-08 09:13:13</td>\n",
       "</tr>\n",
       "</tbody>\n",
       "</table>\n"
      ],
      "text/plain": [
       "+----+-------+-----------------------+-----------------------+\n",
       "| id | data  | modi_date             | load_date             |\n",
       "+====+=======+=======================+=======================+\n",
       "|  3 | 'x'   | '2012-01-07 00:00:00' | '2021-06-08 09:13:13' |\n",
       "+----+-------+-----------------------+-----------------------+\n",
       "|  4 | 'd'   | '2012-01-08 00:00:00' | '2021-06-08 09:13:13' |\n",
       "+----+-------+-----------------------+-----------------------+\n",
       "|  5 | 'sdd' | '2012-01-07 00:00:00' | '2021-06-08 09:13:13' |\n",
       "+----+-------+-----------------------+-----------------------+\n",
       "|  6 | 'ssd' | '2012-01-07 00:00:00' | '2021-06-08 09:13:13' |\n",
       "+----+-------+-----------------------+-----------------------+"
      ]
     },
     "execution_count": 55,
     "metadata": {},
     "output_type": "execute_result"
    }
   ],
   "source": [
    "table4 = etl.select(table3,lambda rec: rec.id >=3 and rec.id < 7)\n",
    "table4"
   ]
  },
  {
   "cell_type": "code",
   "execution_count": 59,
   "id": "282dc4ea",
   "metadata": {},
   "outputs": [],
   "source": [
    "etl.todb(table =  table4 ,dbo = conn, tablename = \"test_csvpetl_3\", schema = 'olist', create = True, drop=True)"
   ]
  },
  {
   "cell_type": "code",
   "execution_count": 62,
   "id": "37c5ae68",
   "metadata": {},
   "outputs": [],
   "source": [
    "table5 = etl.convert(table4,\"load_date\",lambda d : isodatetime(d))"
   ]
  },
  {
   "cell_type": "code",
   "execution_count": 65,
   "id": "665618a9",
   "metadata": {},
   "outputs": [],
   "source": [
    "conn.close()"
   ]
  },
  {
   "cell_type": "markdown",
   "id": "c81a86a6",
   "metadata": {},
   "source": [
    "При опции в todb create = true таблица создается на лету, поэтому тип дейттайм питона не встанет в постгрес, так как там нету этого типа (есть timestamp). Нам надо будет заранее создавать таблицу в постгрес, тогда дейттайм спокойно встанет на таймстемп постгрес"
   ]
  },
  {
   "cell_type": "code",
   "execution_count": null,
   "id": "7f15a2ed",
   "metadata": {},
   "outputs": [],
   "source": []
  }
 ],
 "metadata": {
  "kernelspec": {
   "display_name": "Python 3 (ipykernel)",
   "language": "python",
   "name": "python3"
  },
  "language_info": {
   "codemirror_mode": {
    "name": "ipython",
    "version": 3
   },
   "file_extension": ".py",
   "mimetype": "text/x-python",
   "name": "python",
   "nbconvert_exporter": "python",
   "pygments_lexer": "ipython3",
   "version": "3.9.7"
  }
 },
 "nbformat": 4,
 "nbformat_minor": 5
}
